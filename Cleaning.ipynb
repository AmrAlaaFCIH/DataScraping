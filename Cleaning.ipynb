{
 "cells": [
  {
   "cell_type": "code",
   "execution_count": 1,
   "metadata": {
    "collapsed": true
   },
   "outputs": [],
   "source": [
    "import string\n",
    "import pandas as pd\n",
    "import re"
   ]
  },
  {
   "cell_type": "code",
   "execution_count": 2,
   "outputs": [
    {
     "data": {
      "text/plain": "(5984, 4)"
     },
     "metadata": {},
     "output_type": "display_data"
    },
    {
     "data": {
      "text/plain": "              Author                     Book_Name  \\\n0  الكاتب هارون يحيى  كتاب التضحية عند الحيوان PDF   \n1  الكاتب هارون يحيى          كتاب معجزة الذرة PDF   \n2  الكاتب هارون يحيى            كتاب لا تتجاهل PDF   \n3  الكاتب هارون يحيى  كتاب الحياة في سبيل الله PDF   \n4  الكاتب هارون يحيى    كتاب العظمة في كل مكان PDF   \n\n                 Book_Category  \\\n0  كتب الأدب العربي-كتب متنوعة   \n1   كتب تطوير الذات-كتب متنوعة   \n2             كتب الأدب العربي   \n3                  كتب اسلامية   \n4             كتب الأدب العربي   \n\n                                            Book_url  \n0  https://www.arab-books.com/books/%d9%83%d8%aa%...  \n1  https://www.arab-books.com/books/%d9%83%d8%aa%...  \n2  https://www.arab-books.com/books/%d9%83%d8%aa%...  \n3  https://www.arab-books.com/books/%d9%83%d8%aa%...  \n4  https://www.arab-books.com/books/%d9%83%d8%aa%...  ",
      "text/html": "<div>\n<style scoped>\n    .dataframe tbody tr th:only-of-type {\n        vertical-align: middle;\n    }\n\n    .dataframe tbody tr th {\n        vertical-align: top;\n    }\n\n    .dataframe thead th {\n        text-align: right;\n    }\n</style>\n<table border=\"1\" class=\"dataframe\">\n  <thead>\n    <tr style=\"text-align: right;\">\n      <th></th>\n      <th>Author</th>\n      <th>Book_Name</th>\n      <th>Book_Category</th>\n      <th>Book_url</th>\n    </tr>\n  </thead>\n  <tbody>\n    <tr>\n      <th>0</th>\n      <td>الكاتب هارون يحيى</td>\n      <td>كتاب التضحية عند الحيوان PDF</td>\n      <td>كتب الأدب العربي-كتب متنوعة</td>\n      <td>https://www.arab-books.com/books/%d9%83%d8%aa%...</td>\n    </tr>\n    <tr>\n      <th>1</th>\n      <td>الكاتب هارون يحيى</td>\n      <td>كتاب معجزة الذرة PDF</td>\n      <td>كتب تطوير الذات-كتب متنوعة</td>\n      <td>https://www.arab-books.com/books/%d9%83%d8%aa%...</td>\n    </tr>\n    <tr>\n      <th>2</th>\n      <td>الكاتب هارون يحيى</td>\n      <td>كتاب لا تتجاهل PDF</td>\n      <td>كتب الأدب العربي</td>\n      <td>https://www.arab-books.com/books/%d9%83%d8%aa%...</td>\n    </tr>\n    <tr>\n      <th>3</th>\n      <td>الكاتب هارون يحيى</td>\n      <td>كتاب الحياة في سبيل الله PDF</td>\n      <td>كتب اسلامية</td>\n      <td>https://www.arab-books.com/books/%d9%83%d8%aa%...</td>\n    </tr>\n    <tr>\n      <th>4</th>\n      <td>الكاتب هارون يحيى</td>\n      <td>كتاب العظمة في كل مكان PDF</td>\n      <td>كتب الأدب العربي</td>\n      <td>https://www.arab-books.com/books/%d9%83%d8%aa%...</td>\n    </tr>\n  </tbody>\n</table>\n</div>"
     },
     "execution_count": 2,
     "metadata": {},
     "output_type": "execute_result"
    }
   ],
   "source": [
    "df=pd.read_csv('Extracted_data.csv')\n",
    "display(df.shape)\n",
    "df.head()"
   ],
   "metadata": {
    "collapsed": false,
    "pycharm": {
     "name": "#%%\n"
    }
   }
  },
  {
   "cell_type": "code",
   "execution_count": 3,
   "outputs": [
    {
     "data": {
      "text/plain": "Author           251\nBook_Name          4\nBook_Category     59\nBook_url           4\ndtype: int64"
     },
     "execution_count": 3,
     "metadata": {},
     "output_type": "execute_result"
    }
   ],
   "source": [
    "df.isna().sum()"
   ],
   "metadata": {
    "collapsed": false,
    "pycharm": {
     "name": "#%%\n"
    }
   }
  },
  {
   "cell_type": "code",
   "execution_count": 4,
   "outputs": [
    {
     "data": {
      "text/plain": "(5980, 4)"
     },
     "metadata": {},
     "output_type": "display_data"
    },
    {
     "data": {
      "text/plain": "              Author                     Book_Name  \\\n0  الكاتب هارون يحيى  كتاب التضحية عند الحيوان PDF   \n1  الكاتب هارون يحيى          كتاب معجزة الذرة PDF   \n2  الكاتب هارون يحيى            كتاب لا تتجاهل PDF   \n3  الكاتب هارون يحيى  كتاب الحياة في سبيل الله PDF   \n4  الكاتب هارون يحيى    كتاب العظمة في كل مكان PDF   \n\n                 Book_Category  \\\n0  كتب الأدب العربي-كتب متنوعة   \n1   كتب تطوير الذات-كتب متنوعة   \n2             كتب الأدب العربي   \n3                  كتب اسلامية   \n4             كتب الأدب العربي   \n\n                                            Book_url  \n0  https://www.arab-books.com/books/%d9%83%d8%aa%...  \n1  https://www.arab-books.com/books/%d9%83%d8%aa%...  \n2  https://www.arab-books.com/books/%d9%83%d8%aa%...  \n3  https://www.arab-books.com/books/%d9%83%d8%aa%...  \n4  https://www.arab-books.com/books/%d9%83%d8%aa%...  ",
      "text/html": "<div>\n<style scoped>\n    .dataframe tbody tr th:only-of-type {\n        vertical-align: middle;\n    }\n\n    .dataframe tbody tr th {\n        vertical-align: top;\n    }\n\n    .dataframe thead th {\n        text-align: right;\n    }\n</style>\n<table border=\"1\" class=\"dataframe\">\n  <thead>\n    <tr style=\"text-align: right;\">\n      <th></th>\n      <th>Author</th>\n      <th>Book_Name</th>\n      <th>Book_Category</th>\n      <th>Book_url</th>\n    </tr>\n  </thead>\n  <tbody>\n    <tr>\n      <th>0</th>\n      <td>الكاتب هارون يحيى</td>\n      <td>كتاب التضحية عند الحيوان PDF</td>\n      <td>كتب الأدب العربي-كتب متنوعة</td>\n      <td>https://www.arab-books.com/books/%d9%83%d8%aa%...</td>\n    </tr>\n    <tr>\n      <th>1</th>\n      <td>الكاتب هارون يحيى</td>\n      <td>كتاب معجزة الذرة PDF</td>\n      <td>كتب تطوير الذات-كتب متنوعة</td>\n      <td>https://www.arab-books.com/books/%d9%83%d8%aa%...</td>\n    </tr>\n    <tr>\n      <th>2</th>\n      <td>الكاتب هارون يحيى</td>\n      <td>كتاب لا تتجاهل PDF</td>\n      <td>كتب الأدب العربي</td>\n      <td>https://www.arab-books.com/books/%d9%83%d8%aa%...</td>\n    </tr>\n    <tr>\n      <th>3</th>\n      <td>الكاتب هارون يحيى</td>\n      <td>كتاب الحياة في سبيل الله PDF</td>\n      <td>كتب اسلامية</td>\n      <td>https://www.arab-books.com/books/%d9%83%d8%aa%...</td>\n    </tr>\n    <tr>\n      <th>4</th>\n      <td>الكاتب هارون يحيى</td>\n      <td>كتاب العظمة في كل مكان PDF</td>\n      <td>كتب الأدب العربي</td>\n      <td>https://www.arab-books.com/books/%d9%83%d8%aa%...</td>\n    </tr>\n  </tbody>\n</table>\n</div>"
     },
     "execution_count": 4,
     "metadata": {},
     "output_type": "execute_result"
    }
   ],
   "source": [
    "#delete data with missing Book_name, category and url\n",
    "df=df[~(df['Book_Name'].isna() & df['Book_Category'].isna() & df['Book_url'].isna())]\n",
    "display(df.shape)\n",
    "df.head()"
   ],
   "metadata": {
    "collapsed": false,
    "pycharm": {
     "name": "#%%\n"
    }
   }
  },
  {
   "cell_type": "code",
   "execution_count": 5,
   "outputs": [],
   "source": [
    "#clean data in each column\n",
    "book_name=[]\n",
    "for word in df['Book_Name']:\n",
    "    phase1=re.sub(rf'[Pp][Dd][Ff]|كتاب|[{string.punctuation}]','',word)\n",
    "    phase2=phase1.split('للكاتب')[0]\n",
    "    phase3=re.sub(r'\\s{2,}',' ',phase2)\n",
    "    phase4=phase3.strip()\n",
    "    book_name.append(phase4)\n",
    "\n",
    "df['Book_Name']=book_name\n",
    "df=df[~df['Book_Name'].str.match(u'[^\\u0621-\\u064A\\u0660-\\u0669a-zA-Z0-9]')]"
   ],
   "metadata": {
    "collapsed": false,
    "pycharm": {
     "name": "#%%\n"
    }
   }
  },
  {
   "cell_type": "code",
   "execution_count": 6,
   "outputs": [
    {
     "data": {
      "text/plain": "                    Author                                          Book_Name  \\\n0        الكاتب هارون يحيى                                التضحية عند الحيوان   \n1        الكاتب هارون يحيى                                        معجزة الذرة   \n2        الكاتب هارون يحيى                                          لا تتجاهل   \n3        الكاتب هارون يحيى                                الحياة في سبيل الله   \n4        الكاتب هارون يحيى                                  العظمة في كل مكان   \n...                    ...                                                ...   \n5979    الكاتب فرانز كافكا                          رواية التحول فرانتس كافكا   \n5980  الشيخ عبدالوهاب خلاف         احكام الاحوال الشخصية في الشريعة الاسلامية   \n5981           الله عز وجل   Corán traducido al español – القران نسخة اسبانية   \n5982           الله عز وجل  القران الكريم باللغة الانجليزية Quran with Eng...   \n5983           الله عز وجل                         Le Saint Coran en français   \n\n                       Book_Category  \\\n0        كتب الأدب العربي-كتب متنوعة   \n1         كتب تطوير الذات-كتب متنوعة   \n2                   كتب الأدب العربي   \n3                        كتب اسلامية   \n4                   كتب الأدب العربي   \n...                              ...   \n5979  كتب الروايات العالمية المترجمة   \n5980                  كتب أصول الفقه   \n5981                   القرآن الكريم   \n5982                   القرآن الكريم   \n5983                   القرآن الكريم   \n\n                                               Book_url  \n0     https://www.arab-books.com/books/%d9%83%d8%aa%...  \n1     https://www.arab-books.com/books/%d9%83%d8%aa%...  \n2     https://www.arab-books.com/books/%d9%83%d8%aa%...  \n3     https://www.arab-books.com/books/%d9%83%d8%aa%...  \n4     https://www.arab-books.com/books/%d9%83%d8%aa%...  \n...                                                 ...  \n5979  https://www.arab-books.com/books/%d8%b1%d9%88%...  \n5980  https://www.arab-books.com/books/%d9%83%d8%aa%...  \n5981  https://www.arab-books.com/books/coran-traduci...  \n5982  https://www.arab-books.com/books/%d8%a7%d9%84%...  \n5983  https://www.arab-books.com/books/le-saint-cora...  \n\n[5974 rows x 4 columns]",
      "text/html": "<div>\n<style scoped>\n    .dataframe tbody tr th:only-of-type {\n        vertical-align: middle;\n    }\n\n    .dataframe tbody tr th {\n        vertical-align: top;\n    }\n\n    .dataframe thead th {\n        text-align: right;\n    }\n</style>\n<table border=\"1\" class=\"dataframe\">\n  <thead>\n    <tr style=\"text-align: right;\">\n      <th></th>\n      <th>Author</th>\n      <th>Book_Name</th>\n      <th>Book_Category</th>\n      <th>Book_url</th>\n    </tr>\n  </thead>\n  <tbody>\n    <tr>\n      <th>0</th>\n      <td>الكاتب هارون يحيى</td>\n      <td>التضحية عند الحيوان</td>\n      <td>كتب الأدب العربي-كتب متنوعة</td>\n      <td>https://www.arab-books.com/books/%d9%83%d8%aa%...</td>\n    </tr>\n    <tr>\n      <th>1</th>\n      <td>الكاتب هارون يحيى</td>\n      <td>معجزة الذرة</td>\n      <td>كتب تطوير الذات-كتب متنوعة</td>\n      <td>https://www.arab-books.com/books/%d9%83%d8%aa%...</td>\n    </tr>\n    <tr>\n      <th>2</th>\n      <td>الكاتب هارون يحيى</td>\n      <td>لا تتجاهل</td>\n      <td>كتب الأدب العربي</td>\n      <td>https://www.arab-books.com/books/%d9%83%d8%aa%...</td>\n    </tr>\n    <tr>\n      <th>3</th>\n      <td>الكاتب هارون يحيى</td>\n      <td>الحياة في سبيل الله</td>\n      <td>كتب اسلامية</td>\n      <td>https://www.arab-books.com/books/%d9%83%d8%aa%...</td>\n    </tr>\n    <tr>\n      <th>4</th>\n      <td>الكاتب هارون يحيى</td>\n      <td>العظمة في كل مكان</td>\n      <td>كتب الأدب العربي</td>\n      <td>https://www.arab-books.com/books/%d9%83%d8%aa%...</td>\n    </tr>\n    <tr>\n      <th>...</th>\n      <td>...</td>\n      <td>...</td>\n      <td>...</td>\n      <td>...</td>\n    </tr>\n    <tr>\n      <th>5979</th>\n      <td>الكاتب فرانز كافكا</td>\n      <td>رواية التحول فرانتس كافكا</td>\n      <td>كتب الروايات العالمية المترجمة</td>\n      <td>https://www.arab-books.com/books/%d8%b1%d9%88%...</td>\n    </tr>\n    <tr>\n      <th>5980</th>\n      <td>الشيخ عبدالوهاب خلاف</td>\n      <td>احكام الاحوال الشخصية في الشريعة الاسلامية</td>\n      <td>كتب أصول الفقه</td>\n      <td>https://www.arab-books.com/books/%d9%83%d8%aa%...</td>\n    </tr>\n    <tr>\n      <th>5981</th>\n      <td>الله عز وجل</td>\n      <td>Corán traducido al español – القران نسخة اسبانية</td>\n      <td>القرآن الكريم</td>\n      <td>https://www.arab-books.com/books/coran-traduci...</td>\n    </tr>\n    <tr>\n      <th>5982</th>\n      <td>الله عز وجل</td>\n      <td>القران الكريم باللغة الانجليزية Quran with Eng...</td>\n      <td>القرآن الكريم</td>\n      <td>https://www.arab-books.com/books/%d8%a7%d9%84%...</td>\n    </tr>\n    <tr>\n      <th>5983</th>\n      <td>الله عز وجل</td>\n      <td>Le Saint Coran en français</td>\n      <td>القرآن الكريم</td>\n      <td>https://www.arab-books.com/books/le-saint-cora...</td>\n    </tr>\n  </tbody>\n</table>\n<p>5974 rows × 4 columns</p>\n</div>"
     },
     "execution_count": 6,
     "metadata": {},
     "output_type": "execute_result"
    }
   ],
   "source": [
    "df"
   ],
   "metadata": {
    "collapsed": false,
    "pycharm": {
     "name": "#%%\n"
    }
   }
  },
  {
   "cell_type": "code",
   "execution_count": 7,
   "outputs": [],
   "source": [
    "df.to_csv('Cleaned_data.csv',encoding='utf-8-sig',index=False)"
   ],
   "metadata": {
    "collapsed": false,
    "pycharm": {
     "name": "#%%\n"
    }
   }
  },
  {
   "cell_type": "code",
   "execution_count": null,
   "outputs": [],
   "source": [],
   "metadata": {
    "collapsed": false,
    "pycharm": {
     "name": "#%%\n"
    }
   }
  }
 ],
 "metadata": {
  "kernelspec": {
   "display_name": "Python 3",
   "language": "python",
   "name": "python3"
  },
  "language_info": {
   "codemirror_mode": {
    "name": "ipython",
    "version": 2
   },
   "file_extension": ".py",
   "mimetype": "text/x-python",
   "name": "python",
   "nbconvert_exporter": "python",
   "pygments_lexer": "ipython2",
   "version": "2.7.6"
  }
 },
 "nbformat": 4,
 "nbformat_minor": 0
}